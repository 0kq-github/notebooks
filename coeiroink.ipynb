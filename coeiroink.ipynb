{
  "nbformat": 4,
  "nbformat_minor": 0,
  "metadata": {
    "colab": {
      "provenance": []
    },
    "kernelspec": {
      "name": "python3",
      "display_name": "Python 3"
    },
    "language_info": {
      "name": "python"
    },
    "accelerator": "GPU"
  },
  "cells": [
    {
      "cell_type": "code",
      "source": [
        "!nvidia-smi"
      ],
      "metadata": {
        "id": "9pXZ50Rmpg-x"
      },
      "execution_count": null,
      "outputs": []
    },
    {
      "cell_type": "code",
      "execution_count": null,
      "metadata": {
        "id": "l5FyPSr41W2p"
      },
      "outputs": [],
      "source": [
        "!git clone https://github.com/shirowanisan/voicevox_engine.git\n",
        "%cd /content/voicevox_engine/\n",
        "!git checkout c-1.6.0+v-0.12.3+gpu"
      ]
    },
    {
      "cell_type": "code",
      "source": [
        "%cd /content/voicevox_engine/\n",
        "!pip install -r requirements.txt"
      ],
      "metadata": {
        "id": "sB73qrcn1dHF"
      },
      "execution_count": null,
      "outputs": []
    },
    {
      "cell_type": "code",
      "source": [
        "%cd /content/voicevox_engine\n",
        "!mkdir speaker_info\n",
        "%cd /content/voicevox_engine/speaker_info\n",
        "!wget -O mana.zip https://www.dropbox.com/s/aqhluxxx3jds4pf/292ea286-3d5f-f1cc-157c-66462a6a9d08.zip?dl=1\n",
        "!unzip mana.zip"
      ],
      "metadata": {
        "id": "SiUpkdHgIzHz"
      },
      "execution_count": null,
      "outputs": []
    },
    {
      "cell_type": "code",
      "source": [
        "%cd /content/voicevox_engine\n",
        "!pip install espnet\n",
        "!python run.py --use_gpu --host 0.0.0.0"
      ],
      "metadata": {
        "id": "iHy5pflY6qm0"
      },
      "execution_count": null,
      "outputs": []
    }
  ]
}